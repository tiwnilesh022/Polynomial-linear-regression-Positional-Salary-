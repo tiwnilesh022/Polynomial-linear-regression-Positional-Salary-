{
 "cells": [
  {
   "cell_type": "markdown",
   "metadata": {},
   "source": [
    "### POLYNOMIAL REGRESSION:\n",
    "Polynomial Linear Regression is non-linear and continuous regression model.\n",
    "<img src= './Image/7.1 Image a.png' width=600 height=100>\n",
    "**- It is a polynomial of degree 2 and one feature as x1.**\n",
    "\n",
    "**NOTE: It is still called linear because power of coefficient are 1.**\n",
    "\n",
    "<img src= './Image/7.1 Image b.png' width=600 height=100>\n",
    "\n",
    "**- It is a polynomial with degree 2 and two features as x1 and x2.**"
   ]
  },
  {
   "cell_type": "markdown",
   "metadata": {},
   "source": [
    "### Advantages of using Polynomial Regression:\n",
    "- Polynomial provides the best approximation of the relationship between the dependent and independent variable.\n",
    "- A Broad range of function can be fit under it.\n",
    "- Polynomial basically fits a wide range of curvature.\n",
    "\n",
    "### Disadvantages of using Polynomial Regression:\n",
    "- The presence of one or two outliers in the data can seriously affect the results of the nonlinear analysis.\n",
    "- These are too sensitive to the outliers.\n",
    "- In addition, there are unfortunately fewer model validation tools for the detection of outliers in nonlinear regression than there are for linear regression."
   ]
  },
  {
   "cell_type": "code",
   "execution_count": null,
   "metadata": {},
   "outputs": [],
   "source": []
  }
 ],
 "metadata": {
  "kernelspec": {
   "display_name": "Python 3",
   "language": "python",
   "name": "python3"
  },
  "language_info": {
   "codemirror_mode": {
    "name": "ipython",
    "version": 3
   },
   "file_extension": ".py",
   "mimetype": "text/x-python",
   "name": "python",
   "nbconvert_exporter": "python",
   "pygments_lexer": "ipython3",
   "version": "3.7.3"
  }
 },
 "nbformat": 4,
 "nbformat_minor": 2
}
